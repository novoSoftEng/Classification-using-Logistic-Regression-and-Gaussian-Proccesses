{
 "cells": [
  {
   "cell_type": "code",
   "execution_count": 1,
   "id": "7174ca38-4aa5-4cc1-a90e-52de4155e9d6",
   "metadata": {},
   "outputs": [],
   "source": [
    "import numpy as np"
   ]
  },
  {
   "cell_type": "code",
   "execution_count": 5,
   "id": "a2d03add-45d1-4eea-b983-8c7e528c1f2b",
   "metadata": {},
   "outputs": [],
   "source": [
    "# Lire les données depuis le fichier\n",
    "with open(\"german.data\", \"r\") as file:\n",
    "    data = file.readlines()\n",
    "\n",
    "structured_data = []\n",
    "\n",
    "# Parse each line and append to the list\n",
    "for line in data:\n",
    "    values = line.strip().split()\n",
    "    structured_data.append(tuple(values))\n",
    "\n",
    "# Create a NumPy array from the list\n",
    "data = np.array(structured_data)\n",
    "\n",
    "\n"
   ]
  },
  {
   "cell_type": "code",
   "execution_count": 7,
   "id": "384b59dd-2d3a-4bc2-b9a8-c7cf350152c2",
   "metadata": {},
   "outputs": [
    {
     "data": {
      "text/plain": [
       "(1000, 21)"
      ]
     },
     "execution_count": 7,
     "metadata": {},
     "output_type": "execute_result"
    }
   ],
   "source": [
    "data.shape"
   ]
  },
  {
   "cell_type": "code",
   "execution_count": 8,
   "id": "204bd1a4-4da7-452b-9ecb-5a5a8c97e87c",
   "metadata": {},
   "outputs": [],
   "source": [
    "unique_data = np.unique(data, axis=0)"
   ]
  },
  {
   "cell_type": "code",
   "execution_count": 9,
   "id": "86c6fa61-8159-492b-867d-bb8642a4f259",
   "metadata": {},
   "outputs": [
    {
     "data": {
      "text/plain": [
       "(1000, 21)"
      ]
     },
     "execution_count": 9,
     "metadata": {},
     "output_type": "execute_result"
    }
   ],
   "source": [
    "unique_data.shape"
   ]
  },
  {
   "cell_type": "code",
   "execution_count": null,
   "id": "8691205f-88cc-43a5-85fe-196f0ca23b9f",
   "metadata": {},
   "outputs": [],
   "source": []
  }
 ],
 "metadata": {
  "kernelspec": {
   "display_name": "Python 3 (ipykernel)",
   "language": "python",
   "name": "python3"
  },
  "language_info": {
   "codemirror_mode": {
    "name": "ipython",
    "version": 3
   },
   "file_extension": ".py",
   "mimetype": "text/x-python",
   "name": "python",
   "nbconvert_exporter": "python",
   "pygments_lexer": "ipython3",
   "version": "3.11.6"
  }
 },
 "nbformat": 4,
 "nbformat_minor": 5
}
