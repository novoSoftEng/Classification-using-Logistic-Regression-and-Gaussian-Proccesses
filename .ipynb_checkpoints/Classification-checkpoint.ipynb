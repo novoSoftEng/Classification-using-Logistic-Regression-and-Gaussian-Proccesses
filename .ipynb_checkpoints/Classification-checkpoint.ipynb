{
 "cells": [
  {
   "cell_type": "code",
   "execution_count": 670,
   "id": "7174ca38-4aa5-4cc1-a90e-52de4155e9d6",
   "metadata": {},
   "outputs": [],
   "source": [
    "import numpy as np\n",
    "import scipy\n",
    "from sklearn.model_selection import train_test_split \n",
    "from sklearn.metrics import accuracy_score , confusion_matrix"
   ]
  },
  {
   "cell_type": "code",
   "execution_count": 671,
   "id": "68876b05-65cc-4b25-8c83-282eb70a56c8",
   "metadata": {},
   "outputs": [],
   "source": [
    "import math"
   ]
  },
  {
   "cell_type": "code",
   "execution_count": 672,
   "id": "a2d03add-45d1-4eea-b983-8c7e528c1f2b",
   "metadata": {},
   "outputs": [],
   "source": [
    "\n",
    "# Read the data from the file\n",
    "with open(\"german.data-numeric\", \"r\") as file:\n",
    "    data_lines = file.readlines()\n",
    "\n",
    "# Parse each line and append to a list\n",
    "structured_data = []\n",
    "for line in data_lines:\n",
    "    values = line.strip().split()\n",
    "    structured_data.append([float(val) for val in values])\n",
    "\n",
    "# Create a NumPy array from the list\n",
    "data = np.array(structured_data, dtype=np.float64)\n",
    "\n",
    "\n"
   ]
  },
  {
   "cell_type": "code",
   "execution_count": 673,
   "id": "a187061d-9610-40e9-bf8e-0ef900c0a794",
   "metadata": {},
   "outputs": [],
   "source": [
    "def nCp(sigma2 , estimator , X, Y):\n",
    "    \"Negative Cp statistic\"\n",
    "    n, p = X.shape\n",
    "    Yhat = estimator.predict(X)\n",
    "    RSS = np.sum((Y - Yhat)**2)\n",
    "    return -(RSS + 2 * p * sigma2) / n"
   ]
  },
  {
   "cell_type": "code",
   "execution_count": 674,
   "id": "384b59dd-2d3a-4bc2-b9a8-c7cf350152c2",
   "metadata": {},
   "outputs": [
    {
     "data": {
      "text/plain": [
       "(1000, 25)"
      ]
     },
     "execution_count": 674,
     "metadata": {},
     "output_type": "execute_result"
    }
   ],
   "source": [
    "data.shape"
   ]
  },
  {
   "cell_type": "code",
   "execution_count": 675,
   "id": "d0df0047-57b1-4d6f-80ab-29f9e0444a9e",
   "metadata": {},
   "outputs": [
    {
     "name": "stdout",
     "output_type": "stream",
     "text": [
      "700\n"
     ]
    }
   ],
   "source": [
    "count = np.sum(data[:, -1] == 1)\n",
    "print(count)"
   ]
  },
  {
   "cell_type": "code",
   "execution_count": 676,
   "id": "017c26f5-0370-4716-9251-f9f37d885c97",
   "metadata": {},
   "outputs": [],
   "source": [
    "def delete_rows_with_value(arr, value, num_rows):\n",
    "    # Assuming arr is a 2D NumPy array\n",
    "    if len(arr.shape) != 2 or arr.shape[1] < 1:\n",
    "        raise ValueError(\"Input must be a 2D array with at least one column.\")\n",
    "\n",
    "    # Find the indices of rows where the final column contains the specified value\n",
    "    indices_to_delete = np.where(arr[:, -1] == value)[0]\n",
    "\n",
    "    # Delete the specified number of rows (num_rows) or all rows if there are fewer than num_rows\n",
    "    rows_to_delete = min(num_rows, len(indices_to_delete))\n",
    "    new_arr = np.delete(arr, indices_to_delete[:rows_to_delete], axis=0)\n",
    "\n",
    "    return new_arr"
   ]
  },
  {
   "cell_type": "code",
   "execution_count": 677,
   "id": "6ceb665e-0346-4f98-900a-75e932027635",
   "metadata": {},
   "outputs": [],
   "source": [
    "X= data[:,:-1]\n",
    "y= data[:,-1]"
   ]
  },
  {
   "cell_type": "code",
   "execution_count": 678,
   "id": "07cad059-d128-4cf1-a48a-7d9530ec261b",
   "metadata": {},
   "outputs": [],
   "source": [
    "def kernel(x, x_prime, a, l):\n",
    "    sq_norm = -0.5 * scipy.spatial.distance.cdist(x, x_prime, 'sqeuclidean')\n",
    "    r=(a**2) * np.exp(sq_norm)\n",
    "    return r"
   ]
  },
  {
   "cell_type": "code",
   "execution_count": 679,
   "id": "b36e3c71-d19a-4b6a-9756-8f9f076c19e8",
   "metadata": {},
   "outputs": [],
   "source": [
    "def calculate_log_loss(y_true, y_prob):\n",
    "    \"\"\"\n",
    "    Calculate Logarithmic Loss (log loss) for binary classification.\n",
    "\n",
    "    Parameters:\n",
    "    - y_true: numpy array or list, true binary labels (0 or 1)\n",
    "    - y_prob: numpy array or list, predicted probabilities for the positive class\n",
    "\n",
    "    Returns:\n",
    "    - log_loss_value: float, log loss value\n",
    "    \"\"\"\n",
    "    n = len(y_true)\n",
    "    \n",
    "    # Avoid log(0) by clipping predicted probabilities\n",
    "    epsilon = 1e-15\n",
    "    y_prob = np.clip(y_prob, epsilon, 1 - epsilon)\n",
    "    \n",
    "    # Calculate log loss\n",
    "    log_loss_value = -np.sum(y_true * np.log(y_prob) + (1 - y_true) * np.log(1 - y_prob)) / n\n",
    "    \n",
    "    return log_loss_value\n",
    "\n"
   ]
  },
  {
   "cell_type": "code",
   "execution_count": 680,
   "id": "709176f5-f81a-4e4b-83aa-68240d10743b",
   "metadata": {},
   "outputs": [],
   "source": [
    "def backward_stepwise_selection(X_train, X_test, y_train, y_test):\n",
    "    n, p = X_train.shape\n",
    "    models = []\n",
    "    bestModel = None\n",
    "    minLogLoss = 10000\n",
    "\n",
    "    for k in range(p-1, -1, -1):\n",
    "        bestModelp = None\n",
    "        bestAcc = 0\n",
    "        for i in range(0, k+1):\n",
    "            newX_train = np.delete(X_train, i, axis=1)\n",
    "            newX_test = np.delete(X_test, i, axis=1)\n",
    "            predicted_probabilities = GP(newX_train, y_train, newX_test, kernel)\n",
    "            predicted_labels = (predicted_probabilities > 0.5).astype(int)\n",
    "            acc = accuracy_score(y_test, predicted_labels)\n",
    "            if acc > bestAcc:\n",
    "                bestAcc = acc\n",
    "                bestModelp = predicted_probabilities\n",
    "        if bestModelp is not None:\n",
    "            models.append(bestModelp)\n",
    "\n",
    "    for model in models:\n",
    "        predicted_labels = (model > 0.3).astype(int)\n",
    "        logLoss = calculate_log_loss(y_test, predicted_labels)\n",
    "        if logLoss < minLogLoss:\n",
    "            minLogLoss = logLoss\n",
    "            bestModel = model\n",
    "\n",
    "    return bestModel\n"
   ]
  },
  {
   "cell_type": "code",
   "execution_count": 681,
   "id": "b83aaf3a-6104-44c1-b033-d8202b66dcf8",
   "metadata": {},
   "outputs": [],
   "source": [
    "# Gaussian process posterior\n",
    "def GP(X1, y1, X2, kernel_func):\n",
    "    \"\"\"\n",
    "    Calculate the posterior mean and covariance matrix for y2\n",
    "    based on the corresponding input X2, the observations (y1, X1), \n",
    "    and the prior kernel function.\n",
    "    \"\"\"\n",
    "    a=1\n",
    "    l=0.1\n",
    "    # Kernel of the observations\n",
    "    Σ11 = kernel_func(X1, X1,a,l) \n",
    "    # Kernel of observations vs to-predict\n",
    "    Σ12 = kernel_func(X1, X2,a,l)\n",
    "    # Solve\n",
    "    #solved = scipy.linalg.solve(Σ11, Σ12, assume_a='pos').T\n",
    "    solved, residuals, rank, s = np.linalg.lstsq(Σ11, Σ12, rcond=None)\n",
    "    # Compute posterior mean\n",
    "    μ2 = solved.T @ y1\n",
    "    probabilities = 1 / (1 + np.exp(-μ2))\n",
    "    return probabilities\n",
    "    # Compute the posterior covariance\n",
    "    #Σ22 = kernel_func(X2, X2,2,0.5)\n",
    "    #Σ2 = Σ22 - (solved @ Σ12)\n",
    "    #return μ2, Σ2  # mean, covariance"
   ]
  },
  {
   "cell_type": "code",
   "execution_count": 682,
   "id": "f9709799-ec8c-4bfd-a2e3-03ce31a52326",
   "metadata": {},
   "outputs": [],
   "source": [
    "X_train, X_test, y_train, y_test = train_test_split(X, (y == 1).astype(int), test_size=0.33, random_state=0)\n",
    "X_train = X_train.astype(float)\n",
    "y_train = y_train.astype(float)\n",
    "X_test = X_test.astype(float)\n"
   ]
  },
  {
   "cell_type": "code",
   "execution_count": 683,
   "id": "5c80694f-c57e-4bef-9abf-0078492394d3",
   "metadata": {},
   "outputs": [],
   "source": [
    "#μ2, Σ2 =GP(X_train, y_train, X_test, kernel)\n",
    "predicted_probabilities = backward_stepwise_selection(X_train, X_test, y_train, y_test)"
   ]
  },
  {
   "cell_type": "code",
   "execution_count": 684,
   "id": "b75b77db-ff26-44d8-bfca-715a2223dab6",
   "metadata": {},
   "outputs": [],
   "source": [
    "def calculate_recall(y_true, y_pred):\n",
    "    \"\"\"\n",
    "    Calculate recall.\n",
    "    \n",
    "    Parameters:\n",
    "    - y_true: array-like, true labels\n",
    "    - y_pred: array-like, predicted labels\n",
    "    \n",
    "    Returns:\n",
    "    - recall: float, recall score\n",
    "    \"\"\"\n",
    "    true_positives = np.sum((y_true == 1) & (y_pred == 1))\n",
    "    false_negatives = np.sum((y_true == 1) & (y_pred == 0))\n",
    "    \n",
    "    if (true_positives + false_negatives) == 0:\n",
    "        return 0.0  # Handle the case where denominator is zero\n",
    "    \n",
    "    recall = true_positives / (true_positives + false_negatives)\n",
    "    return recall\n"
   ]
  },
  {
   "cell_type": "code",
   "execution_count": 685,
   "id": "50caaffc-1701-4752-9b38-abbf422a91b9",
   "metadata": {},
   "outputs": [
    {
     "name": "stdout",
     "output_type": "stream",
     "text": [
      "accurecy 0.7212121212121212\n",
      "recall 0.9786324786324786\n",
      "[[  9  87]\n",
      " [  5 229]]\n"
     ]
    }
   ],
   "source": [
    "# Threshold the probabilities to get binary predictions\n",
    "predicted_labels = (predicted_probabilities > 0.5).astype(int)\n",
    "# Compute accuracy\n",
    "accuracy = np.mean(y_test == predicted_labels)\n",
    "print(\"accurecy\",accuracy)\n",
    "print(\"recall\",calculate_recall(y_test,predicted_labels))\n",
    "print(confusion_matrix(y_test,predicted_labels))"
   ]
  },
  {
   "cell_type": "code",
   "execution_count": 686,
   "id": "33891b3a-931e-44b2-816b-c98823f4caa8",
   "metadata": {},
   "outputs": [
    {
     "name": "stdout",
     "output_type": "stream",
     "text": [
      "accuracy 0.7\n",
      "recall 0.9017094017094017\n",
      "[[ 20  76]\n",
      " [ 23 211]]\n"
     ]
    }
   ],
   "source": [
    "predicted_probabilities = GP(X_train, y_train, X_test, kernel)\n",
    "# Threshold the probabilities to get binary predictions\n",
    "predicted_labels = (predicted_probabilities > 0.5).astype(int)\n",
    "# Compute accuracy\n",
    "accuracy = np.mean(y_test == predicted_labels)\n",
    "print(\"accuracy\",accuracy)\n",
    "print(\"recall\",calculate_recall(y_test,predicted_labels))\n",
    "print(confusion_matrix(y_test,predicted_labels))"
   ]
  },
  {
   "cell_type": "code",
   "execution_count": 687,
   "id": "44321c71-cc53-4f94-9290-48df54a01d39",
   "metadata": {},
   "outputs": [
    {
     "name": "stdout",
     "output_type": "stream",
     "text": [
      "Accuracy: 0.7727272727272727\n",
      "[[ 52  31]\n",
      " [ 44 203]]\n"
     ]
    }
   ],
   "source": [
    "import numpy as np\n",
    "from sklearn.gaussian_process import GaussianProcessClassifier\n",
    "from sklearn.gaussian_process.kernels import RBF\n",
    "from sklearn.datasets import make_classification\n",
    "from sklearn.model_selection import train_test_split\n",
    "\n",
    "# Define the Gaussian Process kernel (Radial Basis Function kernel here)\n",
    "kernel = 1.0 * RBF(length_scale=1.0)\n",
    "\n",
    "# Create the Gaussian Process Classifier\n",
    "gp_classifier = GaussianProcessClassifier(kernel=kernel, random_state=42)\n",
    "\n",
    "# Fit the classifier to the training data\n",
    "gp_classifier.fit(X_train, y_train)\n",
    "\n",
    "# Predict on the test data\n",
    "y_pred = gp_classifier.predict(X_test)\n",
    "\n",
    "# Evaluate the accuracy\n",
    "accuracy = accuracy_score(y_test, y_pred)\n",
    "print(\"Accuracy:\", accuracy)\n",
    "print(confusion_matrix(y_pred,y_test))"
   ]
  },
  {
   "cell_type": "code",
   "execution_count": null,
   "id": "31afba6a-d2b4-4f68-b2cd-2948cedf651b",
   "metadata": {},
   "outputs": [],
   "source": []
  },
  {
   "cell_type": "code",
   "execution_count": null,
   "id": "60b020ba-0204-4eab-97c2-3d0e5bba2943",
   "metadata": {},
   "outputs": [],
   "source": []
  },
  {
   "cell_type": "code",
   "execution_count": null,
   "id": "f018d25b-ecac-4e9d-ac71-04c185572fcb",
   "metadata": {},
   "outputs": [],
   "source": []
  }
 ],
 "metadata": {
  "kernelspec": {
   "display_name": "Python 3 (ipykernel)",
   "language": "python",
   "name": "python3"
  },
  "language_info": {
   "codemirror_mode": {
    "name": "ipython",
    "version": 3
   },
   "file_extension": ".py",
   "mimetype": "text/x-python",
   "name": "python",
   "nbconvert_exporter": "python",
   "pygments_lexer": "ipython3",
   "version": "3.11.6"
  }
 },
 "nbformat": 4,
 "nbformat_minor": 5
}
